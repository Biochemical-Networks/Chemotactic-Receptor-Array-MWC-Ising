{
 "cells": [
  {
   "cell_type": "markdown",
   "id": "62097292",
   "metadata": {},
   "source": [
    "# Processing Cluster Results"
   ]
  },
  {
   "cell_type": "code",
   "execution_count": 1,
   "id": "a8d03967",
   "metadata": {},
   "outputs": [],
   "source": [
    "import numpy as np\n",
    "import matplotlib.pyplot as plt\n",
    "import numba\n",
    "from numba import jit\n",
    "import scipy.optimize as spopt\n",
    "from scipy.optimize import curve_fit"
   ]
  },
  {
   "cell_type": "markdown",
   "id": "ad970ae6",
   "metadata": {},
   "source": [
    "## Dose-Response Curve"
   ]
  },
  {
   "cell_type": "markdown",
   "id": "d98d7bc8",
   "metadata": {},
   "source": [
    "## Estimating Fundamental Flipping Frequency"
   ]
  },
  {
   "cell_type": "markdown",
   "id": "62fd6b34",
   "metadata": {},
   "source": [
    "### Size Effects\n",
    "\n",
    "Make a 3D plot of fitting parameters versus L and J"
   ]
  },
  {
   "cell_type": "markdown",
   "id": "899a7631",
   "metadata": {},
   "source": [
    "## Response Kernel"
   ]
  },
  {
   "cell_type": "markdown",
   "id": "1438b794",
   "metadata": {},
   "source": [
    "## Noise Kernel"
   ]
  },
  {
   "cell_type": "code",
   "execution_count": null,
   "id": "1ce69282",
   "metadata": {},
   "outputs": [],
   "source": []
  }
 ],
 "metadata": {
  "kernelspec": {
   "display_name": "Python 3 (ipykernel)",
   "language": "python",
   "name": "python3"
  },
  "language_info": {
   "codemirror_mode": {
    "name": "ipython",
    "version": 3
   },
   "file_extension": ".py",
   "mimetype": "text/x-python",
   "name": "python",
   "nbconvert_exporter": "python",
   "pygments_lexer": "ipython3",
   "version": "3.11.4"
  }
 },
 "nbformat": 4,
 "nbformat_minor": 5
}
