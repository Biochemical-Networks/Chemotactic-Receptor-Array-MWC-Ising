{
 "cells": [
  {
   "cell_type": "code",
   "execution_count": null,
   "id": "270a67bc",
   "metadata": {},
   "outputs": [],
   "source": [
    "import numpy as np\n",
    "import matplotlib.pyplot as plt\n",
    "import matplotlib\n",
    "import matplotlib.cm as cm\n",
    "import numba\n",
    "from numba import jit\n",
    "import scipy.optimize as spopt\n",
    "from scipy.optimize import curve_fit\n",
    "import matplotlib.gridspec as gridspec\n",
    "import animatplot as amp"
   ]
  }
 ],
 "metadata": {
  "kernelspec": {
   "display_name": "Python 3 (ipykernel)",
   "language": "python",
   "name": "python3"
  }
 },
 "nbformat": 4,
 "nbformat_minor": 5
}
